{
 "cells": [
  {
   "cell_type": "code",
   "execution_count": 1,
   "metadata": {},
   "outputs": [
    {
     "name": "stdout",
     "output_type": "stream",
     "text": [
      "Sun May  9 17:25:38 2021       \n",
      "+-----------------------------------------------------------------------------+\n",
      "| NVIDIA-SMI 460.56       Driver Version: 460.56       CUDA Version: 11.2     |\n",
      "|-------------------------------+----------------------+----------------------+\n",
      "| GPU  Name        Persistence-M| Bus-Id        Disp.A | Volatile Uncorr. ECC |\n",
      "| Fan  Temp  Perf  Pwr:Usage/Cap|         Memory-Usage | GPU-Util  Compute M. |\n",
      "|                               |                      |               MIG M. |\n",
      "|===============================+======================+======================|\n",
      "|   0  Quadro RTX 8000     On   | 00000000:01:00.0 Off |                  Off |\n",
      "| 35%   48C    P8    28W / 260W |   3138MiB / 48598MiB |      0%      Default |\n",
      "|                               |                      |                  N/A |\n",
      "+-------------------------------+----------------------+----------------------+\n",
      "|   1  Quadro RTX 8000     On   | 00000000:21:00.0 Off |                  Off |\n",
      "| 52%   76C    P2   173W / 260W |    811MiB / 48601MiB |     67%      Default |\n",
      "|                               |                      |                  N/A |\n",
      "+-------------------------------+----------------------+----------------------+\n",
      "|   2  Quadro RTX 8000     Off  | 00000000:4B:00.0 Off |                  Off |\n",
      "| 58%   78C    P2   261W / 260W |  19519MiB / 48601MiB |     98%      Default |\n",
      "|                               |                      |                  N/A |\n",
      "+-------------------------------+----------------------+----------------------+\n",
      "|   3  Quadro RTX 8000     Off  | 00000000:4C:00.0 Off |                  Off |\n",
      "| 46%   73C    P2   190W / 260W |   2951MiB / 48601MiB |     60%      Default |\n",
      "|                               |                      |                  N/A |\n",
      "+-------------------------------+----------------------+----------------------+\n",
      "                                                                               \n",
      "+-----------------------------------------------------------------------------+\n",
      "| Processes:                                                                  |\n",
      "|  GPU   GI   CI        PID   Type   Process name                  GPU Memory |\n",
      "|        ID   ID                                                   Usage      |\n",
      "|=============================================================================|\n",
      "|    0   N/A  N/A      1853      G   /usr/lib/xorg/Xorg                183MiB |\n",
      "|    0   N/A  N/A      2128      G   /usr/bin/gnome-shell                8MiB |\n",
      "|    0   N/A  N/A    125250      C   ...6e-9175-41a944e916b3.json     2943MiB |\n",
      "|    1   N/A  N/A      1853      G   /usr/lib/xorg/Xorg                  4MiB |\n",
      "|    1   N/A  N/A    185026      C   ...9885/anaconda3/bin/python      803MiB |\n",
      "|    2   N/A  N/A      1853      G   /usr/lib/xorg/Xorg                  4MiB |\n",
      "|    2   N/A  N/A    123688      C   ...57-b33b-fa9e6511f6b9.json    19511MiB |\n",
      "|    3   N/A  N/A      1853      G   /usr/lib/xorg/Xorg                  4MiB |\n",
      "|    3   N/A  N/A    133368      C   ...50-a15d-250742693c20.json     2943MiB |\n",
      "+-----------------------------------------------------------------------------+\n"
     ]
    }
   ],
   "source": [
    "import cupy as cp\n",
    "from cupyx import scatter_add\n",
    "import pandas as pd\n",
    "import time\n",
    "import numpy as np\n",
    "import matplotlib.pyplot as plt\n",
    "from includes.preprocessor import write_keywords,write_birth,write_parameters\n",
    "from includes.gamma import domain_mgr, heat_solve_mgr,load_toolpath,get_toolpath\n",
    "%matplotlib notebook\n",
    "cp.cuda.Device(0).use()\n",
    "!nvidia-smi\n",
    "import pyvista as pv\n",
    "from pyvirtualdisplay import Display\n",
    "import vtk"
   ]
  },
  {
   "cell_type": "code",
   "execution_count": 3,
   "metadata": {},
   "outputs": [
    {
     "data": {
      "image/png": "[encoded data removed]",
      "text/plain": [
       "<PIL.Image.Image image mode=RGB size=1000x800 at 0x7F488689D310>"
      ]
     },
     "metadata": {},
     "output_type": "display_data"
    }
   ],
   "source": [
    "file_name = 'input_files/thinwall.inp'\n",
    "output_file = 'input_files/thinwall.k'\n",
    "toolpath_file = 'input_files/thinwall_toolpath.crs'\n",
    "height = 20\n",
    "radius = 1\n",
    "path_resolution = 0.1\n",
    "write_keywords(file_name,output_file,height)\n",
    "write_birth(output_file,toolpath_file,path_resolution,radius,gif_end=100,nFrame=100)\n",
    "write_parameters(output_file)"
   ]
  },
  {
   "cell_type": "code",
   "execution_count": 2,
   "metadata": {},
   "outputs": [],
   "source": [
    "def save_vtk(filename):\n",
    "    active_elements = domain.elements[domain.active_elements].tolist()\n",
    "    active_cells = np.array([item for sublist in active_elements for item in [8] + sublist])\n",
    "    active_cell_type = np.array([vtk.VTK_HEXAHEDRON] * len(active_elements))\n",
    "    points = domain.nodes.get()\n",
    "    active_grid = pv.UnstructuredGrid(active_cells, active_cell_type, points)\n",
    "    active_grid.point_arrays['temp'] = heat_solver.temperature.get()\n",
    "    active_grid.save(filename)"
   ]
  },
  {
   "cell_type": "code",
   "execution_count": 3,
   "metadata": {},
   "outputs": [
    {
     "name": "stdout",
     "output_type": "stream",
     "text": [
      "Time of reading input files: 1.7585227489471436\n",
      "Time of calculating critical timestep: 0.35007476806640625\n",
      "Time of reading and interpolating toolpath: 0.13937830924987793\n",
      "Number of nodes: 122825\n",
      "Number of elements: 98176\n",
      "Number of time-steps: 177147\n",
      "Time of generating surface: 325.69619631767273\n"
     ]
    }
   ],
   "source": [
    "domain = domain_mgr(filename='input_files/cylinder.k',toolpath_file='input_files/cylinder_toolpath.crs')"
   ]
  },
  {
   "cell_type": "code",
   "execution_count": 4,
   "metadata": {},
   "outputs": [
    {
     "data": {
      "text/plain": [
       "0.004730555782438592"
      ]
     },
     "execution_count": 4,
     "metadata": {},
     "output_type": "execute_result"
    }
   ],
   "source": [
    "domain.dt"
   ]
  },
  {
   "cell_type": "code",
   "execution_count": null,
   "metadata": {},
   "outputs": [
    {
     "name": "stdout",
     "output_type": "stream",
     "text": [
      "Current time:  23.65277891219141, Percentage done:  2.822514634738381%\n"
     ]
    }
   ],
   "source": [
    "%%time\n",
    "Ki = 20\n",
    "Kp = 120\n",
    "Kd = 0\n",
    "\n",
    "heat_solver = heat_solve_mgr(domain)\n",
    "melt_data = []\n",
    "domain.current_time = 0\n",
    "endtime = 838\n",
    "timestep = int(endtime/domain.dt)+1\n",
    "angle = np.arctan2(domain.nodes[:,1],domain.nodes[:,0])\n",
    "distance = np.sqrt(domain.nodes[:,1]**2+domain.nodes[:,0]**2)\n",
    "ind = []\n",
    "for A in [np.pi/4,np.pi/2,np.pi*3/4,-np.pi/4,-np.pi/2,-np.pi*3/4]:\n",
    "    a = np.where((abs(angle-A)<7e-3)*(abs(distance-30)<0.1)*(domain.nodes[:,2]>0)*(domain.nodes[:,2]<20))\n",
    "    ind = np.append(ind,a[0])\n",
    "ind = ind.astype(dtype=np.int32)\n",
    "temp_data = []\n",
    "\n",
    "heat_solver.q_in = 200\n",
    "control_step = 15\n",
    "control_track = 0\n",
    "delay_step = 4\n",
    "delay_track = 0\n",
    "melt_depth_control = 0\n",
    "err_n = 0\n",
    "err_n_1 = 0\n",
    "err_n_2 = 0\n",
    "control_data = []\n",
    "file_num = 0\n",
    "\n",
    "for t in range(1,timestep):\n",
    "    melt_depth_desired = 2.0\n",
    "    heat_solver.time_integration()\n",
    "    heat_solver.calculate_melt()\n",
    "    if t % 5000 == 0:\n",
    "        mempool = cp.get_default_memory_pool()\n",
    "        mempool.free_all_blocks()\n",
    "        print(\"Current time:  {}, Percentage done:  {}%\".format(domain.current_time,100*t/timestep))\n",
    "    \n",
    "    if t % 1000 == 0:\n",
    "        filename = 'cylinder_half/cylinder_{}.vtk'.format(file_num)\n",
    "        save_vtk(filename)\n",
    "        file_num = file_num + 1\n",
    "    \n",
    "    temp_data.append(np.array(heat_solver.temperature[ind].get()))\n",
    "    melt_data.append([domain.current_time,heat_solver.melt_depth,heat_solver.q_in,heat_solver.laser_state])\n",
    "    \n",
    "    if domain.current_time>57:\n",
    "        if heat_solver.laser_state>0:\n",
    "            control_track += 1\n",
    "            melt_depth_control += heat_solver.melt_depth/control_step\n",
    "            if control_track == control_step:\n",
    "                if delay_track == delay_step:\n",
    "                    control_track = 0\n",
    "                    if heat_solver.laser_loc[1]>0:\n",
    "                        melt_depth_desired = 1.4\n",
    "                    err_n = melt_depth_desired - melt_depth_control \n",
    "                    heat_solver.q_in = heat_solver.q_in + Kp * (err_n - err_n_1) + Ki * err_n + Kd * (err_n + err_n_2 - 2*err_n_1)\n",
    "                    heat_solver.q_in = cp.clip(heat_solver.q_in,100,400)\n",
    "                    err_n_2 = err_n_1\n",
    "                    err_n_1 = err_n\n",
    "                    melt_depth_control = 0\n",
    "                else:\n",
    "                    control_track = 0\n",
    "                    melt_depth_control = 0\n",
    "                    delay_track+=1\n",
    "\n",
    "        if heat_solver.laser_state==0:\n",
    "            control_track = 0\n",
    "            delay_track = 0\n",
    "            err_n = 0\n",
    "            err_n_1 = 0\n",
    "            err_n_2 = 0\n",
    "\n",
    "melt_data=np.array(melt_data)\n",
    "np.save('cylinder_half/melt.npy',melt_data)\n",
    "np.save('cylinder_half/temp.npy',temp_data)"
   ]
  },
  {
   "cell_type": "code",
   "execution_count": null,
   "metadata": {},
   "outputs": [
    {
     "name": "stdout",
     "output_type": "stream",
     "text": [
      "Current time:  23.938625014765876, Percentage done:  24.935168561739477%\n",
      "Current time:  47.87725002953873, Percentage done:  49.870337123478954%\n",
      "Current time:  71.81587504431756, Percentage done:  74.80550568521844%\n",
      "Current time:  95.7545000590964, Percentage done:  99.74067424695791%\n",
      "Current time:  23.938625014765876, Percentage done:  24.935168561739477%\n",
      "Current time:  47.87725002953873, Percentage done:  49.870337123478954%\n",
      "Current time:  71.81587504431756, Percentage done:  74.80550568521844%\n",
      "Current time:  95.7545000590964, Percentage done:  99.74067424695791%\n"
     ]
    }
   ],
   "source": [
    "%%time\n",
    "Ki_list = np.array([0, 0, 0,  0,  0,  0,10,20,30,40,60, 10, 20, 30, 40, 60, 10, 20, 30, 40, 60])\n",
    "Kp_list = np.array([0,20,80,120,200,400,80,80,80,80,80,120,120,120,120,120,200,200,200,200,200])\n",
    "Kd = 0\n",
    "for i in range (0,21):\n",
    "    Ki = Ki_list[i]\n",
    "    Kp = Kp_list[i]\n",
    "    heat_solver = heat_solve_mgr(domain)\n",
    "    melt_data = []\n",
    "    domain.current_time = 0\n",
    "    endtime = 96\n",
    "    timestep = int(endtime/domain.dt)+1\n",
    "\n",
    "    temp_data = []\n",
    "\n",
    "    heat_solver.q_in = 200\n",
    "    control_step = 15\n",
    "    control_track = 0\n",
    "    delay_step = 4\n",
    "    delay_track = 0 \n",
    "    melt_depth_control = 0\n",
    "    err_n = 0\n",
    "    err_n_1 = 0\n",
    "    err_n_2 = 0\n",
    "    control_data = []\n",
    "    file_num = 0\n",
    "\n",
    "    for t in range(1,timestep):\n",
    "        melt_depth_desired = 1.4\n",
    "        heat_solver.time_integration()\n",
    "        heat_solver.calculate_melt()\n",
    "        if t % 5000 == 0:\n",
    "            mempool = cp.get_default_memory_pool()\n",
    "            mempool.free_all_blocks()\n",
    "            print(\"Current time:  {}, Percentage done:  {}%\".format(domain.current_time,100*t/timestep))\n",
    "\n",
    "        melt_data.append([domain.current_time,heat_solver.melt_depth,heat_solver.q_in,heat_solver.laser_state])\n",
    "        control_data.append([control_track,err_n,err_n_1,melt_depth_control])\n",
    "        if domain.current_time>25:\n",
    "            if heat_solver.laser_state>0:\n",
    "                control_track += 1\n",
    "                melt_depth_control += heat_solver.melt_depth/control_step\n",
    "                if control_track == control_step:\n",
    "                    if delay_track == delay_step:\n",
    "                        control_track = 0\n",
    "                        err_n = melt_depth_desired - melt_depth_control \n",
    "                        heat_solver.q_in = heat_solver.q_in + Kp * (err_n - err_n_1) + Ki * err_n + Kd * (err_n + err_n_2 - 2*err_n_1)\n",
    "                        heat_solver.q_in = cp.clip(heat_solver.q_in,100,500)\n",
    "                        err_n_2 = err_n_1\n",
    "                        err_n_1 = err_n\n",
    "                        melt_depth_control = 0\n",
    "                    else: \n",
    "                        control_track = 0\n",
    "                        melt_depth_control = 0\n",
    "                        delay_track+=1\n",
    "\n",
    "            if heat_solver.laser_state==0:\n",
    "                control_track = 0\n",
    "                delay_track = 0\n",
    "                err_n = 0\n",
    "                err_n_1 = 0\n",
    "                err_n_2 = 0\n",
    "                heat_solver.q_in = 200\n",
    "\n",
    "    melt_data=np.array(melt_data)\n",
    "    control_data = np.array(control_data)\n",
    "    data1 = np.concatenate((melt_data,control_data),axis=1)\n",
    "    np.save('thinwall/melt_kp{}ki{}'.format(Kp,Ki),data1)"
   ]
  },
  {
   "cell_type": "code",
   "execution_count": null,
   "metadata": {},
   "outputs": [],
   "source": [
    "display = Display(visible=0)\n",
    "_ = display.start()\n",
    "active_elements = domain.elements[domain.active_elements].tolist()\n",
    "active_cells = np.array([item for sublist in active_elements for item in [8] + sublist])\n",
    "active_cell_type = np.array([vtk.VTK_HEXAHEDRON] * len(active_elements))\n",
    "points = domain.nodes.get()\n",
    "active_grid = pv.UnstructuredGrid(active_cells, active_cell_type, points)\n",
    "active_grid.point_arrays['temp'] = heat_solver.temperature.get()\n",
    "p = pv.Plotter(window_size=(2000,1600))\n",
    "p.camera_position = ((0, -100, 180),(0, 0, 0),(0.0, 0.0, 1.0))\n",
    "p.add_mesh(active_grid, show_edges=True, scalars='temp',cmap=\"coolwarm\")\n",
    "p.show()"
   ]
  },
  {
   "cell_type": "code",
   "execution_count": null,
   "metadata": {},
   "outputs": [],
   "source": [
    "plt.plot(melt_data[:,0],melt_data[:,1])\n",
    "plt.plot(melt_data[:,0],melt_data[:,2]/200)\n"
   ]
  },
  {
   "cell_type": "code",
   "execution_count": null,
   "metadata": {},
   "outputs": [],
   "source": []
  }
 ],
 "metadata": {
  "kernelspec": {
   "display_name": "Python 3",
   "language": "python",
   "name": "python3"
  },
  "language_info": {
   "codemirror_mode": {
    "name": "ipython",
    "version": 3
   },
   "file_extension": ".py",
   "mimetype": "text/x-python",
   "name": "python",
   "nbconvert_exporter": "python",
   "pygments_lexer": "ipython3",
   "version": "3.8.3"
  }
 },
 "nbformat": 4,
 "nbformat_minor": 4
}
