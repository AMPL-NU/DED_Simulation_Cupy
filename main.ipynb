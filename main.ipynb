{
 "cells": [
  {
   "cell_type": "code",
   "execution_count": 52,
   "metadata": {},
   "outputs": [
    {
     "name": "stdout",
     "output_type": "stream",
     "text": [
      "Tue Apr 20 15:48:40 2021       \n",
      "+-----------------------------------------------------------------------------+\n",
      "| NVIDIA-SMI 460.56       Driver Version: 460.56       CUDA Version: 11.2     |\n",
      "|-------------------------------+----------------------+----------------------+\n",
      "| GPU  Name        Persistence-M| Bus-Id        Disp.A | Volatile Uncorr. ECC |\n",
      "| Fan  Temp  Perf  Pwr:Usage/Cap|         Memory-Usage | GPU-Util  Compute M. |\n",
      "|                               |                      |               MIG M. |\n",
      "|===============================+======================+======================|\n",
      "|   0  Quadro RTX 8000     On   | 00000000:01:00.0 Off |                  Off |\n",
      "| 34%   41C    P8    27W / 260W |    195MiB / 48598MiB |      0%      Default |\n",
      "|                               |                      |                  N/A |\n",
      "+-------------------------------+----------------------+----------------------+\n",
      "|   1  Quadro RTX 8000     On   | 00000000:21:00.0 Off |                  Off |\n",
      "| 33%   31C    P8     4W / 260W |   7805MiB / 48601MiB |      0%      Default |\n",
      "|                               |                      |                  N/A |\n",
      "+-------------------------------+----------------------+----------------------+\n",
      "|   2  Quadro RTX 8000     Off  | 00000000:4B:00.0 Off |                  Off |\n",
      "| 33%   28C    P8     8W / 260W |      8MiB / 48601MiB |      0%      Default |\n",
      "|                               |                      |                  N/A |\n",
      "+-------------------------------+----------------------+----------------------+\n",
      "|   3  Quadro RTX 8000     Off  | 00000000:4C:00.0 Off |                  Off |\n",
      "| 35%   37C    P8    20W / 260W |      8MiB / 48601MiB |      0%      Default |\n",
      "|                               |                      |                  N/A |\n",
      "+-------------------------------+----------------------+----------------------+\n",
      "                                                                               \n",
      "+-----------------------------------------------------------------------------+\n",
      "| Processes:                                                                  |\n",
      "|  GPU   GI   CI        PID   Type   Process name                  GPU Memory |\n",
      "|        ID   ID                                                   Usage      |\n",
      "|=============================================================================|\n",
      "|    0   N/A  N/A      1853      G   /usr/lib/xorg/Xorg                183MiB |\n",
      "|    0   N/A  N/A      2128      G   /usr/bin/gnome-shell                8MiB |\n",
      "|    1   N/A  N/A      1853      G   /usr/lib/xorg/Xorg                  4MiB |\n",
      "|    1   N/A  N/A      3958      C   ...9885/anaconda3/bin/python     7797MiB |\n",
      "|    2   N/A  N/A      1853      G   /usr/lib/xorg/Xorg                  4MiB |\n",
      "|    3   N/A  N/A      1853      G   /usr/lib/xorg/Xorg                  4MiB |\n",
      "+-----------------------------------------------------------------------------+\n"
     ]
    }
   ],
   "source": [
    "import cupy as cp\n",
    "from cupyx import scatter_add\n",
    "import pandas as pd\n",
    "import time\n",
    "import numpy as np\n",
    "import matplotlib.pyplot as plt\n",
    "from includes.preprocessor import write_keywords,write_birth,write_parameters\n",
    "from includes.gamma import domain_mgr, heat_solve_mgr\n",
    "%matplotlib notebook\n",
    "cp.cuda.Device(1).use()\n",
    "!nvidia-smi"
   ]
  },
  {
   "cell_type": "code",
   "execution_count": 53,
   "metadata": {},
   "outputs": [
    {
     "data": {
      "image/png": "[encoded data removed]",
      "text/plain": [
       "<PIL.Image.Image image mode=RGB size=1000x800 at 0x7F671A02F9D0>"
      ]
     },
     "metadata": {},
     "output_type": "display_data"
    }
   ],
   "source": [
    "file_name = 'input_files/cylinder.inp'\n",
    "output_file = 'input_files/cylinder.k'\n",
    "toolpath_file = 'input_files/toolpath.crs'\n",
    "height = 15\n",
    "radius = 1.5\n",
    "path_resolution = 0.2\n",
    "write_keywords(file_name,output_file,15)\n",
    "write_birth(output_file,toolpath_file,path_resolution,radius,nFrame=100)\n",
    "write_parameters(output_file)"
   ]
  },
  {
   "cell_type": "code",
   "execution_count": null,
   "metadata": {},
   "outputs": [
    {
     "name": "stdout",
     "output_type": "stream",
     "text": [
      "Time of reading input files: 2.2982754707336426\n",
      "Time of calculating critical timestep: 0.04874587059020996\n"
     ]
    }
   ],
   "source": [
    "domain = domain_mgr(filename='input_files/cylinder.k',toolpath_file='input_files/toolpath.crs')"
   ]
  },
  {
   "cell_type": "code",
   "execution_count": null,
   "metadata": {},
   "outputs": [],
   "source": [
    "%%time\n",
    "heat_solver = heat_solve_mgr(domain)\n",
    "data = []\n",
    "domain.current_time = 0\n",
    "endtime = 2000\n",
    "timestep = int(endtime/domain.dt)+1\n",
    "timestep = 14000\n",
    "for t in range(1,timestep):\n",
    "    heat_solver.time_integration()\n",
    "    heat_solver.calculate_melt()\n",
    "    if t % 500 == 0:\n",
    "        mempool = cp.get_default_memory_pool()\n",
    "        mempool.free_all_blocks()\n",
    "#    data.append(np.array(heat_solver.temperature.get()))\n",
    "    data.append(heat_solver.melt_depth)"
   ]
  },
  {
   "cell_type": "code",
   "execution_count": null,
   "metadata": {},
   "outputs": [],
   "source": [
    "import pyvista as pv\n",
    "from pyvirtualdisplay import Display\n",
    "import vtk\n",
    "display = Display(visible=0)\n",
    "_ = display.start()\n",
    "active_elements = domain.elements[domain.active_elements].tolist()\n",
    "active_cells = np.array([item for sublist in active_elements for item in [8] + sublist])\n",
    "active_cell_type = np.array([vtk.VTK_HEXAHEDRON] * len(active_elements))\n",
    "points = domain.nodes.get()\n",
    "active_grid = pv.UnstructuredGrid(active_cells, active_cell_type, points)\n",
    "active_grid.point_arrays['temp'] = heat_solver.temperature.get()\n",
    "p = pv.Plotter(window_size=(1000,800))\n",
    "p.camera_position = ((0, -100, 180),(0, 0, 0),(0.0, 0.0, 1.0))\n",
    "p.add_mesh(active_grid, show_edges=True, scalars='temp',cmap=\"coolwarm\",clim=[300,2300])\n",
    "p.show()"
   ]
  },
  {
   "cell_type": "code",
   "execution_count": null,
   "metadata": {},
   "outputs": [],
   "source": []
  }
 ],
 "metadata": {
  "kernelspec": {
   "display_name": "Python 3",
   "language": "python",
   "name": "python3"
  },
  "language_info": {
   "codemirror_mode": {
    "name": "ipython",
    "version": 3
   },
   "file_extension": ".py",
   "mimetype": "text/x-python",
   "name": "python",
   "nbconvert_exporter": "python",
   "pygments_lexer": "ipython3",
   "version": "3.8.3"
  }
 },
 "nbformat": 4,
 "nbformat_minor": 4
}
