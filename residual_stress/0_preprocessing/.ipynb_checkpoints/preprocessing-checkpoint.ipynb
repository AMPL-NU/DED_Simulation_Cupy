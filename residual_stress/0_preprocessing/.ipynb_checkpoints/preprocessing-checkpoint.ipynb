{
 "cells": [
  {
   "cell_type": "code",
   "execution_count": 1,
   "id": "1aa26cc8",
   "metadata": {},
   "outputs": [],
   "source": [
    "import sys\n",
    "sys.path.append(\"../../includes\")\n",
    "from preprocessor import write_keywords,write_birth,write_parameters\n",
    "file_name = 'single_clad.inp' #input mesh file from abaqus\n",
    "toolpath_file = 'single_clad_toolpath.crs'\n",
    "output_file = 'single_clad.k' #define keyword file name\n",
    "\n",
    "substrate_height = 11\n",
    "radius = 0.8\n",
    "path_resolution = 0.05\n",
    "write_keywords(file_name,output_file,substrate_height)\n",
    "write_birth(output_file,toolpath_file,path_resolution,radius,gif_end=15,nFrame=100,mode=1,camera_position=[(0, -30, 60),(0, 0, 0),(0.0, 0.0, 1.0)])\n",
    "write_parameters(output_file)"
   ]
  },
  {
   "cell_type": "code",
   "execution_count": null,
   "id": "54fc9298",
   "metadata": {},
   "outputs": [],
   "source": []
  }
 ],
 "metadata": {
  "kernelspec": {
   "display_name": "Python 3",
   "language": "python",
   "name": "python3"
  },
  "language_info": {
   "codemirror_mode": {
    "name": "ipython",
    "version": 3
   },
   "file_extension": ".py",
   "mimetype": "text/x-python",
   "name": "python",
   "nbconvert_exporter": "python",
   "pygments_lexer": "ipython3",
   "version": "3.8.8"
  }
 },
 "nbformat": 4,
 "nbformat_minor": 5
}
